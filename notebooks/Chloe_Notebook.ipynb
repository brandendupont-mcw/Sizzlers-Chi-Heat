{
  "nbformat": 4,
  "nbformat_minor": 0,
  "metadata": {
    "colab": {
      "provenance": []
    },
    "kernelspec": {
      "name": "python3",
      "display_name": "Python 3"
    },
    "language_info": {
      "name": "python"
    }
  },
  "cells": [
    {
      "cell_type": "markdown",
      "source": [
        "# Import Libraries\n",
        "\n"
      ],
      "metadata": {
        "id": "5w1s7irErnHY"
      }
    },
    {
      "cell_type": "code",
      "source": [
        "import pandas as pd\n",
        "import numpy as np\n",
        "import requests\n",
        "import geopandas as gpd"
      ],
      "metadata": {
        "id": "h2x2oE9Yvwt0"
      },
      "execution_count": 2,
      "outputs": []
    },
    {
      "cell_type": "code",
      "source": [],
      "metadata": {
        "id": "bsWV6LyW7LGN"
      },
      "execution_count": null,
      "outputs": []
    },
    {
      "cell_type": "markdown",
      "source": [
        "### More Chicagoans lacked heat in January than any month since 2019 amid historic cold\n",
        "\n",
        "1. Go to the Chicago Data Portal: https://data.cityofchicago.org/\n",
        "2. Find each dataset. Building violations, ward, and police.\n",
        "3. Add a data notes section to your github readme. This should include information about the source of your data, where it came from, how often it is updated, and the period of data it contains (e.g. 2010-present or 2012 to 2019)\n",
        "4. Lastly, test that this import works. This may take a while as the dataset is large."
      ],
      "metadata": {
        "id": "gKL5FdPivyt8"
      }
    },
    {
      "cell_type": "code",
      "source": [
        "build = pd.read_csv('https://data.cityofchicago.org/resource/22u3-xenr.csv?$limit=3000000')"
      ],
      "metadata": {
        "id": "JAp01jjdmOX5"
      },
      "execution_count": 3,
      "outputs": []
    },
    {
      "cell_type": "code",
      "source": [
        "# you can use any of these\n",
        "ward = gpd.read_file('https://data.cityofchicago.org/api/geospatial/sp34-6z76?method=export&format=GeoJSON')\n",
        "police = gpd.read_file('https://data.cityofchicago.org/api/geospatial/fthy-xz3r?method=export&format=GeoJSON')"
      ],
      "metadata": {
        "id": "HiVrw0lfo6lu"
      },
      "execution_count": 4,
      "outputs": []
    },
    {
      "cell_type": "code",
      "source": [
        "# how heat complaint is defined"
      ],
      "metadata": {
        "id": "jGbpCHwm1fNB"
      },
      "execution_count": 5,
      "outputs": []
    },
    {
      "cell_type": "code",
      "source": [
        "build.head()"
      ],
      "metadata": {
        "id": "ktfk5AVBwnG1",
        "outputId": "c331a804-e886-436a-a595-3b974ad1a162",
        "colab": {
          "base_uri": "https://localhost:8080/",
          "height": 423
        }
      },
      "execution_count": 6,
      "outputs": [
        {
          "output_type": "execute_result",
          "data": {
            "text/plain": [
              "        id violation_last_modified_date           violation_date  \\\n",
              "0  7147204      2024-04-10T12:26:49.000  2024-04-10T00:00:00.000   \n",
              "1  7147072      2024-04-10T11:07:28.000  2024-04-10T00:00:00.000   \n",
              "2  7147314      2024-04-10T14:51:17.000  2024-04-10T00:00:00.000   \n",
              "3  7147352      2024-04-10T16:19:28.000  2024-04-10T00:00:00.000   \n",
              "4  7147295      2024-04-10T11:07:47.000  2024-04-10T00:00:00.000   \n",
              "\n",
              "  violation_code violation_status violation_status_date  \\\n",
              "0       CN063014             OPEN                   NaN   \n",
              "1       CN076064             OPEN                   NaN   \n",
              "2       CN194019             OPEN                   NaN   \n",
              "3       CN190019             OPEN                   NaN   \n",
              "4       CN062014             OPEN                   NaN   \n",
              "\n",
              "         violation_description     violation_location  \\\n",
              "0                      CHIMNEY         EXTERIOR:S   :   \n",
              "1  ADJUST GUTTER TO DRAIN ROOF         EXTERIOR:E   :   \n",
              "2            REPAIR OR REPLACE    OTHER   :    :OTHER   \n",
              "3   ARRANGE PREMISE INSPECTION  INTERIOR:003 :UNIT 3E   \n",
              "4             PARAPET & COPING    OTHER   :    :OTHER   \n",
              "\n",
              "                        violation_inspector_comments  \\\n",
              "0               SOUTH FRONT CHIMNEY - ERODED MORTAR.   \n",
              "1  EAST AND WEST ELEVATIONS  - LOOSE AND SHIFTED ...   \n",
              "2         11101 / EMERGENCY LIGHTS - OUT OF SERVICE.   \n",
              "3  ARRANGE FOR INSPECTION / UNABLE TO VERIFY INTE...   \n",
              "4  NORTH ELEVATION / PARAPET - WASHED OUT MORTAR....   \n",
              "\n",
              "                                 violation_ordinance  ...  \\\n",
              "0  Failed to maintain chimney in safe and sound w...  ...   \n",
              "1  Failed to maintain roof gutter so it drains ro...  ...   \n",
              "2                                  Repair or replace  ...   \n",
              "3    Arrange for inspection of premises. (13-12-100)  ...   \n",
              "4  Failed to maintain the parapet wall and coping...  ...   \n",
              "\n",
              "                address  street_number street_direction street_name  \\\n",
              "0  1651 N FRANCISCO AVE           1651                N   FRANCISCO   \n",
              "1        1065 W POLK ST           1065                W        POLK   \n",
              "2  11101 S MICHIGAN AVE          11101                S    MICHIGAN   \n",
              "3     4957 N WHIPPLE ST           4957                N     WHIPPLE   \n",
              "4     7331 S RHODES AVE           7331                S      RHODES   \n",
              "\n",
              "  street_type property_group   ssa   latitude  longitude  \\\n",
              "0         AVE          75305   NaN  41.911727 -87.698982   \n",
              "1          ST         254335   NaN  41.871723 -87.653719   \n",
              "2         AVE         520334  40.0  41.692562 -87.620901   \n",
              "3          ST          11821  60.0  41.971976 -87.704765   \n",
              "4         AVE         405037   NaN  41.761186 -87.611382   \n",
              "\n",
              "                                          location  \n",
              "0   \\n,  \\n(41.91172703733214, -87.69898221041089)  \n",
              "1    \\n,  \\n(41.87172250496017, -87.6537192363085)  \n",
              "2   \\n,  \\n(41.69256158476296, -87.62090080358455)  \n",
              "3  \\n,  \\n(41.971975505613436, -87.70476476378752)  \n",
              "4    \\n,  \\n(41.76118568407476, -87.6113822491066)  \n",
              "\n",
              "[5 rows x 26 columns]"
            ],
            "text/html": [
              "\n",
              "  <div id=\"df-fe367166-ecda-4a2d-9ab2-f3ac7473adc9\" class=\"colab-df-container\">\n",
              "    <div>\n",
              "<style scoped>\n",
              "    .dataframe tbody tr th:only-of-type {\n",
              "        vertical-align: middle;\n",
              "    }\n",
              "\n",
              "    .dataframe tbody tr th {\n",
              "        vertical-align: top;\n",
              "    }\n",
              "\n",
              "    .dataframe thead th {\n",
              "        text-align: right;\n",
              "    }\n",
              "</style>\n",
              "<table border=\"1\" class=\"dataframe\">\n",
              "  <thead>\n",
              "    <tr style=\"text-align: right;\">\n",
              "      <th></th>\n",
              "      <th>id</th>\n",
              "      <th>violation_last_modified_date</th>\n",
              "      <th>violation_date</th>\n",
              "      <th>violation_code</th>\n",
              "      <th>violation_status</th>\n",
              "      <th>violation_status_date</th>\n",
              "      <th>violation_description</th>\n",
              "      <th>violation_location</th>\n",
              "      <th>violation_inspector_comments</th>\n",
              "      <th>violation_ordinance</th>\n",
              "      <th>...</th>\n",
              "      <th>address</th>\n",
              "      <th>street_number</th>\n",
              "      <th>street_direction</th>\n",
              "      <th>street_name</th>\n",
              "      <th>street_type</th>\n",
              "      <th>property_group</th>\n",
              "      <th>ssa</th>\n",
              "      <th>latitude</th>\n",
              "      <th>longitude</th>\n",
              "      <th>location</th>\n",
              "    </tr>\n",
              "  </thead>\n",
              "  <tbody>\n",
              "    <tr>\n",
              "      <th>0</th>\n",
              "      <td>7147204</td>\n",
              "      <td>2024-04-10T12:26:49.000</td>\n",
              "      <td>2024-04-10T00:00:00.000</td>\n",
              "      <td>CN063014</td>\n",
              "      <td>OPEN</td>\n",
              "      <td>NaN</td>\n",
              "      <td>CHIMNEY</td>\n",
              "      <td>EXTERIOR:S   :</td>\n",
              "      <td>SOUTH FRONT CHIMNEY - ERODED MORTAR.</td>\n",
              "      <td>Failed to maintain chimney in safe and sound w...</td>\n",
              "      <td>...</td>\n",
              "      <td>1651 N FRANCISCO AVE</td>\n",
              "      <td>1651</td>\n",
              "      <td>N</td>\n",
              "      <td>FRANCISCO</td>\n",
              "      <td>AVE</td>\n",
              "      <td>75305</td>\n",
              "      <td>NaN</td>\n",
              "      <td>41.911727</td>\n",
              "      <td>-87.698982</td>\n",
              "      <td>\\n,  \\n(41.91172703733214, -87.69898221041089)</td>\n",
              "    </tr>\n",
              "    <tr>\n",
              "      <th>1</th>\n",
              "      <td>7147072</td>\n",
              "      <td>2024-04-10T11:07:28.000</td>\n",
              "      <td>2024-04-10T00:00:00.000</td>\n",
              "      <td>CN076064</td>\n",
              "      <td>OPEN</td>\n",
              "      <td>NaN</td>\n",
              "      <td>ADJUST GUTTER TO DRAIN ROOF</td>\n",
              "      <td>EXTERIOR:E   :</td>\n",
              "      <td>EAST AND WEST ELEVATIONS  - LOOSE AND SHIFTED ...</td>\n",
              "      <td>Failed to maintain roof gutter so it drains ro...</td>\n",
              "      <td>...</td>\n",
              "      <td>1065 W POLK ST</td>\n",
              "      <td>1065</td>\n",
              "      <td>W</td>\n",
              "      <td>POLK</td>\n",
              "      <td>ST</td>\n",
              "      <td>254335</td>\n",
              "      <td>NaN</td>\n",
              "      <td>41.871723</td>\n",
              "      <td>-87.653719</td>\n",
              "      <td>\\n,  \\n(41.87172250496017, -87.6537192363085)</td>\n",
              "    </tr>\n",
              "    <tr>\n",
              "      <th>2</th>\n",
              "      <td>7147314</td>\n",
              "      <td>2024-04-10T14:51:17.000</td>\n",
              "      <td>2024-04-10T00:00:00.000</td>\n",
              "      <td>CN194019</td>\n",
              "      <td>OPEN</td>\n",
              "      <td>NaN</td>\n",
              "      <td>REPAIR OR REPLACE</td>\n",
              "      <td>OTHER   :    :OTHER</td>\n",
              "      <td>11101 / EMERGENCY LIGHTS - OUT OF SERVICE.</td>\n",
              "      <td>Repair or replace</td>\n",
              "      <td>...</td>\n",
              "      <td>11101 S MICHIGAN AVE</td>\n",
              "      <td>11101</td>\n",
              "      <td>S</td>\n",
              "      <td>MICHIGAN</td>\n",
              "      <td>AVE</td>\n",
              "      <td>520334</td>\n",
              "      <td>40.0</td>\n",
              "      <td>41.692562</td>\n",
              "      <td>-87.620901</td>\n",
              "      <td>\\n,  \\n(41.69256158476296, -87.62090080358455)</td>\n",
              "    </tr>\n",
              "    <tr>\n",
              "      <th>3</th>\n",
              "      <td>7147352</td>\n",
              "      <td>2024-04-10T16:19:28.000</td>\n",
              "      <td>2024-04-10T00:00:00.000</td>\n",
              "      <td>CN190019</td>\n",
              "      <td>OPEN</td>\n",
              "      <td>NaN</td>\n",
              "      <td>ARRANGE PREMISE INSPECTION</td>\n",
              "      <td>INTERIOR:003 :UNIT 3E</td>\n",
              "      <td>ARRANGE FOR INSPECTION / UNABLE TO VERIFY INTE...</td>\n",
              "      <td>Arrange for inspection of premises. (13-12-100)</td>\n",
              "      <td>...</td>\n",
              "      <td>4957 N WHIPPLE ST</td>\n",
              "      <td>4957</td>\n",
              "      <td>N</td>\n",
              "      <td>WHIPPLE</td>\n",
              "      <td>ST</td>\n",
              "      <td>11821</td>\n",
              "      <td>60.0</td>\n",
              "      <td>41.971976</td>\n",
              "      <td>-87.704765</td>\n",
              "      <td>\\n,  \\n(41.971975505613436, -87.70476476378752)</td>\n",
              "    </tr>\n",
              "    <tr>\n",
              "      <th>4</th>\n",
              "      <td>7147295</td>\n",
              "      <td>2024-04-10T11:07:47.000</td>\n",
              "      <td>2024-04-10T00:00:00.000</td>\n",
              "      <td>CN062014</td>\n",
              "      <td>OPEN</td>\n",
              "      <td>NaN</td>\n",
              "      <td>PARAPET &amp; COPING</td>\n",
              "      <td>OTHER   :    :OTHER</td>\n",
              "      <td>NORTH ELEVATION / PARAPET - WASHED OUT MORTAR....</td>\n",
              "      <td>Failed to maintain the parapet wall and coping...</td>\n",
              "      <td>...</td>\n",
              "      <td>7331 S RHODES AVE</td>\n",
              "      <td>7331</td>\n",
              "      <td>S</td>\n",
              "      <td>RHODES</td>\n",
              "      <td>AVE</td>\n",
              "      <td>405037</td>\n",
              "      <td>NaN</td>\n",
              "      <td>41.761186</td>\n",
              "      <td>-87.611382</td>\n",
              "      <td>\\n,  \\n(41.76118568407476, -87.6113822491066)</td>\n",
              "    </tr>\n",
              "  </tbody>\n",
              "</table>\n",
              "<p>5 rows × 26 columns</p>\n",
              "</div>\n",
              "    <div class=\"colab-df-buttons\">\n",
              "\n",
              "  <div class=\"colab-df-container\">\n",
              "    <button class=\"colab-df-convert\" onclick=\"convertToInteractive('df-fe367166-ecda-4a2d-9ab2-f3ac7473adc9')\"\n",
              "            title=\"Convert this dataframe to an interactive table.\"\n",
              "            style=\"display:none;\">\n",
              "\n",
              "  <svg xmlns=\"http://www.w3.org/2000/svg\" height=\"24px\" viewBox=\"0 -960 960 960\">\n",
              "    <path d=\"M120-120v-720h720v720H120Zm60-500h600v-160H180v160Zm220 220h160v-160H400v160Zm0 220h160v-160H400v160ZM180-400h160v-160H180v160Zm440 0h160v-160H620v160ZM180-180h160v-160H180v160Zm440 0h160v-160H620v160Z\"/>\n",
              "  </svg>\n",
              "    </button>\n",
              "\n",
              "  <style>\n",
              "    .colab-df-container {\n",
              "      display:flex;\n",
              "      gap: 12px;\n",
              "    }\n",
              "\n",
              "    .colab-df-convert {\n",
              "      background-color: #E8F0FE;\n",
              "      border: none;\n",
              "      border-radius: 50%;\n",
              "      cursor: pointer;\n",
              "      display: none;\n",
              "      fill: #1967D2;\n",
              "      height: 32px;\n",
              "      padding: 0 0 0 0;\n",
              "      width: 32px;\n",
              "    }\n",
              "\n",
              "    .colab-df-convert:hover {\n",
              "      background-color: #E2EBFA;\n",
              "      box-shadow: 0px 1px 2px rgba(60, 64, 67, 0.3), 0px 1px 3px 1px rgba(60, 64, 67, 0.15);\n",
              "      fill: #174EA6;\n",
              "    }\n",
              "\n",
              "    .colab-df-buttons div {\n",
              "      margin-bottom: 4px;\n",
              "    }\n",
              "\n",
              "    [theme=dark] .colab-df-convert {\n",
              "      background-color: #3B4455;\n",
              "      fill: #D2E3FC;\n",
              "    }\n",
              "\n",
              "    [theme=dark] .colab-df-convert:hover {\n",
              "      background-color: #434B5C;\n",
              "      box-shadow: 0px 1px 3px 1px rgba(0, 0, 0, 0.15);\n",
              "      filter: drop-shadow(0px 1px 2px rgba(0, 0, 0, 0.3));\n",
              "      fill: #FFFFFF;\n",
              "    }\n",
              "  </style>\n",
              "\n",
              "    <script>\n",
              "      const buttonEl =\n",
              "        document.querySelector('#df-fe367166-ecda-4a2d-9ab2-f3ac7473adc9 button.colab-df-convert');\n",
              "      buttonEl.style.display =\n",
              "        google.colab.kernel.accessAllowed ? 'block' : 'none';\n",
              "\n",
              "      async function convertToInteractive(key) {\n",
              "        const element = document.querySelector('#df-fe367166-ecda-4a2d-9ab2-f3ac7473adc9');\n",
              "        const dataTable =\n",
              "          await google.colab.kernel.invokeFunction('convertToInteractive',\n",
              "                                                    [key], {});\n",
              "        if (!dataTable) return;\n",
              "\n",
              "        const docLinkHtml = 'Like what you see? Visit the ' +\n",
              "          '<a target=\"_blank\" href=https://colab.research.google.com/notebooks/data_table.ipynb>data table notebook</a>'\n",
              "          + ' to learn more about interactive tables.';\n",
              "        element.innerHTML = '';\n",
              "        dataTable['output_type'] = 'display_data';\n",
              "        await google.colab.output.renderOutput(dataTable, element);\n",
              "        const docLink = document.createElement('div');\n",
              "        docLink.innerHTML = docLinkHtml;\n",
              "        element.appendChild(docLink);\n",
              "      }\n",
              "    </script>\n",
              "  </div>\n",
              "\n",
              "\n",
              "<div id=\"df-a620e157-743c-4fc5-bb7a-a0f53915eb15\">\n",
              "  <button class=\"colab-df-quickchart\" onclick=\"quickchart('df-a620e157-743c-4fc5-bb7a-a0f53915eb15')\"\n",
              "            title=\"Suggest charts\"\n",
              "            style=\"display:none;\">\n",
              "\n",
              "<svg xmlns=\"http://www.w3.org/2000/svg\" height=\"24px\"viewBox=\"0 0 24 24\"\n",
              "     width=\"24px\">\n",
              "    <g>\n",
              "        <path d=\"M19 3H5c-1.1 0-2 .9-2 2v14c0 1.1.9 2 2 2h14c1.1 0 2-.9 2-2V5c0-1.1-.9-2-2-2zM9 17H7v-7h2v7zm4 0h-2V7h2v10zm4 0h-2v-4h2v4z\"/>\n",
              "    </g>\n",
              "</svg>\n",
              "  </button>\n",
              "\n",
              "<style>\n",
              "  .colab-df-quickchart {\n",
              "      --bg-color: #E8F0FE;\n",
              "      --fill-color: #1967D2;\n",
              "      --hover-bg-color: #E2EBFA;\n",
              "      --hover-fill-color: #174EA6;\n",
              "      --disabled-fill-color: #AAA;\n",
              "      --disabled-bg-color: #DDD;\n",
              "  }\n",
              "\n",
              "  [theme=dark] .colab-df-quickchart {\n",
              "      --bg-color: #3B4455;\n",
              "      --fill-color: #D2E3FC;\n",
              "      --hover-bg-color: #434B5C;\n",
              "      --hover-fill-color: #FFFFFF;\n",
              "      --disabled-bg-color: #3B4455;\n",
              "      --disabled-fill-color: #666;\n",
              "  }\n",
              "\n",
              "  .colab-df-quickchart {\n",
              "    background-color: var(--bg-color);\n",
              "    border: none;\n",
              "    border-radius: 50%;\n",
              "    cursor: pointer;\n",
              "    display: none;\n",
              "    fill: var(--fill-color);\n",
              "    height: 32px;\n",
              "    padding: 0;\n",
              "    width: 32px;\n",
              "  }\n",
              "\n",
              "  .colab-df-quickchart:hover {\n",
              "    background-color: var(--hover-bg-color);\n",
              "    box-shadow: 0 1px 2px rgba(60, 64, 67, 0.3), 0 1px 3px 1px rgba(60, 64, 67, 0.15);\n",
              "    fill: var(--button-hover-fill-color);\n",
              "  }\n",
              "\n",
              "  .colab-df-quickchart-complete:disabled,\n",
              "  .colab-df-quickchart-complete:disabled:hover {\n",
              "    background-color: var(--disabled-bg-color);\n",
              "    fill: var(--disabled-fill-color);\n",
              "    box-shadow: none;\n",
              "  }\n",
              "\n",
              "  .colab-df-spinner {\n",
              "    border: 2px solid var(--fill-color);\n",
              "    border-color: transparent;\n",
              "    border-bottom-color: var(--fill-color);\n",
              "    animation:\n",
              "      spin 1s steps(1) infinite;\n",
              "  }\n",
              "\n",
              "  @keyframes spin {\n",
              "    0% {\n",
              "      border-color: transparent;\n",
              "      border-bottom-color: var(--fill-color);\n",
              "      border-left-color: var(--fill-color);\n",
              "    }\n",
              "    20% {\n",
              "      border-color: transparent;\n",
              "      border-left-color: var(--fill-color);\n",
              "      border-top-color: var(--fill-color);\n",
              "    }\n",
              "    30% {\n",
              "      border-color: transparent;\n",
              "      border-left-color: var(--fill-color);\n",
              "      border-top-color: var(--fill-color);\n",
              "      border-right-color: var(--fill-color);\n",
              "    }\n",
              "    40% {\n",
              "      border-color: transparent;\n",
              "      border-right-color: var(--fill-color);\n",
              "      border-top-color: var(--fill-color);\n",
              "    }\n",
              "    60% {\n",
              "      border-color: transparent;\n",
              "      border-right-color: var(--fill-color);\n",
              "    }\n",
              "    80% {\n",
              "      border-color: transparent;\n",
              "      border-right-color: var(--fill-color);\n",
              "      border-bottom-color: var(--fill-color);\n",
              "    }\n",
              "    90% {\n",
              "      border-color: transparent;\n",
              "      border-bottom-color: var(--fill-color);\n",
              "    }\n",
              "  }\n",
              "</style>\n",
              "\n",
              "  <script>\n",
              "    async function quickchart(key) {\n",
              "      const quickchartButtonEl =\n",
              "        document.querySelector('#' + key + ' button');\n",
              "      quickchartButtonEl.disabled = true;  // To prevent multiple clicks.\n",
              "      quickchartButtonEl.classList.add('colab-df-spinner');\n",
              "      try {\n",
              "        const charts = await google.colab.kernel.invokeFunction(\n",
              "            'suggestCharts', [key], {});\n",
              "      } catch (error) {\n",
              "        console.error('Error during call to suggestCharts:', error);\n",
              "      }\n",
              "      quickchartButtonEl.classList.remove('colab-df-spinner');\n",
              "      quickchartButtonEl.classList.add('colab-df-quickchart-complete');\n",
              "    }\n",
              "    (() => {\n",
              "      let quickchartButtonEl =\n",
              "        document.querySelector('#df-a620e157-743c-4fc5-bb7a-a0f53915eb15 button');\n",
              "      quickchartButtonEl.style.display =\n",
              "        google.colab.kernel.accessAllowed ? 'block' : 'none';\n",
              "    })();\n",
              "  </script>\n",
              "</div>\n",
              "\n",
              "    </div>\n",
              "  </div>\n"
            ],
            "application/vnd.google.colaboratory.intrinsic+json": {
              "type": "dataframe",
              "variable_name": "build"
            }
          },
          "metadata": {},
          "execution_count": 6
        }
      ]
    },
    {
      "cell_type": "code",
      "source": [
        "build.shape"
      ],
      "metadata": {
        "id": "jgOFZBvPwrJF",
        "outputId": "160f2080-fb9c-4e2c-ff8b-c852afea45df",
        "colab": {
          "base_uri": "https://localhost:8080/"
        }
      },
      "execution_count": 7,
      "outputs": [
        {
          "output_type": "execute_result",
          "data": {
            "text/plain": [
              "(1906071, 26)"
            ]
          },
          "metadata": {},
          "execution_count": 7
        }
      ]
    },
    {
      "cell_type": "code",
      "source": [
        "build['heat'] = build['violation_description'].str.contains('HEAT')"
      ],
      "metadata": {
        "id": "md51xqzcEOKE"
      },
      "execution_count": 10,
      "outputs": []
    },
    {
      "cell_type": "code",
      "source": [
        "build['heat']"
      ],
      "metadata": {
        "colab": {
          "base_uri": "https://localhost:8080/"
        },
        "id": "GFTLpoTLEejS",
        "outputId": "71aba751-bb77-4a81-93cf-fdfd5e2cf770"
      },
      "execution_count": 11,
      "outputs": [
        {
          "output_type": "execute_result",
          "data": {
            "text/plain": [
              "0          False\n",
              "1          False\n",
              "2          False\n",
              "3          False\n",
              "4          False\n",
              "           ...  \n",
              "1906066    False\n",
              "1906067    False\n",
              "1906068    False\n",
              "1906069    False\n",
              "1906070    False\n",
              "Name: heat, Length: 1906071, dtype: object"
            ]
          },
          "metadata": {},
          "execution_count": 11
        }
      ]
    },
    {
      "cell_type": "code",
      "source": [
        "build['violation_description'].unique()"
      ],
      "metadata": {
        "colab": {
          "base_uri": "https://localhost:8080/"
        },
        "id": "OuzucwumFCr_",
        "outputId": "20e459d3-5c02-466d-a9f8-da0464e8fad3"
      },
      "execution_count": 15,
      "outputs": [
        {
          "output_type": "execute_result",
          "data": {
            "text/plain": [
              "array(['CHIMNEY', 'ADJUST GUTTER TO DRAIN ROOF', 'REPAIR OR REPLACE', ...,\n",
              "       'INST SILL GUARD H/W PASS', 'PROV HYDRO TOP CLEARANCE PASS',\n",
              "       'REP/REPL LOBBY FIRE KEY SW F'], dtype=object)"
            ]
          },
          "metadata": {},
          "execution_count": 15
        }
      ]
    },
    {
      "cell_type": "code",
      "source": [],
      "metadata": {
        "id": "r1zUdhrbJwab"
      },
      "execution_count": null,
      "outputs": []
    },
    {
      "cell_type": "code",
      "source": [
        "build_heat = build[build['violation_description'] == 'HEAT UNIT ADEQUATELY']"
      ],
      "metadata": {
        "id": "7--z6TXnG4ZJ"
      },
      "execution_count": 20,
      "outputs": []
    },
    {
      "cell_type": "code",
      "source": [
        "build['is_heat'] = np.where(build['violation_description'] == 'HEAT UNIT ADEQUATELY', 'heat_violation', 'not_heat_violation')"
      ],
      "metadata": {
        "id": "19hnZf_lJ7vZ"
      },
      "execution_count": 24,
      "outputs": []
    },
    {
      "cell_type": "code",
      "source": [
        "build.columns"
      ],
      "metadata": {
        "colab": {
          "base_uri": "https://localhost:8080/"
        },
        "id": "-ARwg2SBMrtV",
        "outputId": "8f3bb67f-fc65-406d-ab7e-dce00940b09e"
      },
      "execution_count": 27,
      "outputs": [
        {
          "output_type": "execute_result",
          "data": {
            "text/plain": [
              "Index(['id', 'violation_last_modified_date', 'violation_date',\n",
              "       'violation_code', 'violation_status', 'violation_status_date',\n",
              "       'violation_description', 'violation_location',\n",
              "       'violation_inspector_comments', 'violation_ordinance', 'inspector_id',\n",
              "       'inspection_number', 'inspection_status', 'inspection_waived',\n",
              "       'inspection_category', 'department_bureau', 'address', 'street_number',\n",
              "       'street_direction', 'street_name', 'street_type', 'property_group',\n",
              "       'ssa', 'latitude', 'longitude', 'location', 'heat', 'is_heat'],\n",
              "      dtype='object')"
            ]
          },
          "metadata": {},
          "execution_count": 27
        }
      ]
    },
    {
      "cell_type": "code",
      "source": [
        "build['is_heat'].unique()"
      ],
      "metadata": {
        "colab": {
          "base_uri": "https://localhost:8080/"
        },
        "id": "gDiTsgOkJ9ZY",
        "outputId": "f0acfea0-713e-4057-d3e2-3727a9266219"
      },
      "execution_count": 29,
      "outputs": [
        {
          "output_type": "execute_result",
          "data": {
            "text/plain": [
              "array(['not_heat_violation', 'heat_violation'], dtype=object)"
            ]
          },
          "metadata": {},
          "execution_count": 29
        }
      ]
    },
    {
      "cell_type": "code",
      "source": [
        "build['is_heat'].value_counts()"
      ],
      "metadata": {
        "colab": {
          "base_uri": "https://localhost:8080/"
        },
        "id": "155Ln_-9OFHb",
        "outputId": "bbc2d6e0-14de-47f0-c889-0cc642600db0"
      },
      "execution_count": 31,
      "outputs": [
        {
          "output_type": "execute_result",
          "data": {
            "text/plain": [
              "is_heat\n",
              "not_heat_violation    1893403\n",
              "heat_violation          12668\n",
              "Name: count, dtype: int64"
            ]
          },
          "metadata": {},
          "execution_count": 31
        }
      ]
    },
    {
      "cell_type": "code",
      "source": [
        "## location-- southsiders filed the most complaints date,"
      ],
      "metadata": {
        "id": "v-dXWD-bP_HJ"
      },
      "execution_count": null,
      "outputs": []
    },
    {
      "cell_type": "code",
      "source": [
        "build['ssa']"
      ],
      "metadata": {
        "colab": {
          "base_uri": "https://localhost:8080/"
        },
        "id": "apyW810tQSW2",
        "outputId": "c92db3d7-5549-498a-81fc-4dac54841730"
      },
      "execution_count": 37,
      "outputs": [
        {
          "output_type": "execute_result",
          "data": {
            "text/plain": [
              "0           NaN\n",
              "1           NaN\n",
              "2          40.0\n",
              "3          60.0\n",
              "4           NaN\n",
              "           ... \n",
              "1906066    52.0\n",
              "1906067     NaN\n",
              "1906068    52.0\n",
              "1906069     NaN\n",
              "1906070     NaN\n",
              "Name: ssa, Length: 1906071, dtype: float64"
            ]
          },
          "metadata": {},
          "execution_count": 37
        }
      ]
    },
    {
      "cell_type": "code",
      "source": [],
      "metadata": {
        "id": "16oMI7L1Qo4l"
      },
      "execution_count": null,
      "outputs": []
    },
    {
      "cell_type": "code",
      "source": [],
      "metadata": {
        "id": "tJC_uYe-QXrp"
      },
      "execution_count": null,
      "outputs": []
    }
  ]
}