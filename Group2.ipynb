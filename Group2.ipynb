{
  "cells": [
    {
      "cell_type": "markdown",
      "metadata": {
        "id": "5w1s7irErnHY"
      },
      "source": [
        "# Import Libraries\n",
        "\n"
      ]
    },
    {
      "cell_type": "code",
      "execution_count": null,
      "metadata": {
        "id": "h2x2oE9Yvwt0"
      },
      "outputs": [],
      "source": [
        "import pandas as pd\n",
        "import numpy as np\n",
        "import requests\n",
        "import geopandas as gpd"
      ]
    },
    {
      "cell_type": "code",
      "execution_count": null,
      "metadata": {
        "id": "bsWV6LyW7LGN"
      },
      "outputs": [],
      "source": []
    },
    {
      "cell_type": "markdown",
      "metadata": {
        "id": "gKL5FdPivyt8"
      },
      "source": [
        "### More Chicagoans lacked heat in January than any month since 2019 amid historic cold\n",
        "\n",
        "1. Go to the Chicago Data Portal: https://data.cityofchicago.org/\n",
        "2. Find each dataset. Building violations, ward, and police.\n",
        "3. Add a data notes section to your github readme. This should include information about the source of your data, where it came from, how often it is updated, and the period of data it contains (e.g. 2010-present or 2012 to 2019)\n",
        "4. Lastly, test that this import works. This may take a while as the dataset is large."
      ]
    },
    {
      "cell_type": "code",
      "execution_count": null,
      "metadata": {
        "colab": {
          "background_save": true
        },
        "id": "JAp01jjdmOX5"
      },
      "outputs": [],
      "source": [
        "build = pd.read_csv('https://data.cityofchicago.org/resource/22u3-xenr.csv?$limit=3000000')"
      ]
    },
    {
      "cell_type": "code",
      "execution_count": null,
      "metadata": {
        "colab": {
          "background_save": true
        },
        "id": "HiVrw0lfo6lu"
      },
      "outputs": [],
      "source": [
        "# you can use any of these\n",
        "ward = gpd.read_file('https://data.cityofchicago.org/api/geospatial/sp34-6z76?method=export&format=GeoJSON')\n",
        "police = gpd.read_file('https://data.cityofchicago.org/api/geospatial/fthy-xz3r?method=export&format=GeoJSON')"
      ]
    },
    {
      "cell_type": "code",
      "source": [
        "build.head()"
      ],
      "metadata": {
        "id": "h1rYKVeCS-ke"
      },
      "execution_count": null,
      "outputs": []
    },
    {
      "cell_type": "code",
      "source": [
        "build.shape"
      ],
      "metadata": {
        "id": "aO28m7nKTAMY"
      },
      "execution_count": null,
      "outputs": []
    },
    {
      "cell_type": "code",
      "source": [
        "#this is our group repository group 2 sheet"
      ],
      "metadata": {
        "id": "2y9oCHR5TDNs"
      },
      "execution_count": null,
      "outputs": []
    }
  ],
  "metadata": {
    "colab": {
      "provenance": []
    },
    "kernelspec": {
      "display_name": "Python 3",
      "name": "python3"
    },
    "language_info": {
      "name": "python"
    }
  },
  "nbformat": 4,
  "nbformat_minor": 0
}